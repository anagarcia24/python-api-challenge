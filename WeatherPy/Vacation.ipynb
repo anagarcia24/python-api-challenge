{
 "cells": [
  {
   "cell_type": "code",
   "execution_count": null,
   "id": "c3a96344-37ce-4820-9374-05f0ccb4bac8",
   "metadata": {},
   "outputs": [],
   "source": [
    "# Import Dependencies\n",
    "import hvplot.pandas\n",
    "import holoviews as hv\n",
    "import pandas as pd\n",
    "import requests\n",
    "\n",
    "# Import API key\n",
    "from api_keys import geoapify_key"
   ]
  },
  {
   "cell_type": "code",
   "execution_count": null,
   "id": "8923e5cf-4e38-4274-aca5-84a847fd0dba",
   "metadata": {},
   "outputs": [],
   "source": [
    "# Load the CSV file created in Part 1 into a Pandas DataFrame\n",
    "city_data_df = pd.read_csv(\"output_data/cities.csv\")\n",
    "\n",
    "# Display sample data\n",
    "city_data_df.head()"
   ]
  },
  {
   "cell_type": "code",
   "execution_count": null,
   "id": "dbe0ea3e-5931-4776-ac41-7c832990f6be",
   "metadata": {},
   "outputs": [],
   "source": [
    "%%capture --no-display\n",
    "\n",
    "vacation_map_plot = city_data_df.hvplot.points(\"Lng\", \"Lat\", geo = True, color = \"City\",\n",
    "                                          alpha = 0.75, size = \"Humidity\", tiles = \"OSM\")\n",
    "\n",
    "# Display the map\n",
    "vacation_map_plot"
   ]
  },
  {
   "cell_type": "code",
   "execution_count": null,
   "id": "abbc6510-f9cd-46e1-b1c1-04daa221e093",
   "metadata": {},
   "outputs": [],
   "source": [
    "# Narrow down cities that fit criteria and drop any results with null values\n",
    "# Vacation Spot Criteria: a max temp lower than 90, higher than 80, \n",
    "# cloudiness less than 2, wind speed less than 20 mph\n",
    "\n",
    "city_data_filtered_df = city_data_df.loc[(city_data_df[\"Max Temp\"] < 90)\n",
    "                                         & (city_data_df[\"Max Temp\"] > 80) \n",
    "                                         & (city_data_df[\"Cloudiness\"] < 2)\n",
    "                                         & (city_data_df[\"Wind Speed\"] < 20)\n",
    "                                        ]\n",
    "\n",
    "\n",
    "# Drop any rows with null values\n",
    "city_data_filtered_df.dropna()\n",
    "\n",
    "# Display sample data\n",
    "city_data_filtered_df"
   ]
  },
  {
   "cell_type": "code",
   "execution_count": null,
   "id": "f5839153-b701-4a5a-acad-bd05cc19dd5f",
   "metadata": {},
   "outputs": [],
   "source": [
    "# Use the Pandas copy function to create DataFrame called hotel_df to store the city, country, coordinates, and humidity\n",
    "hotel_df = city_data_filtered_df[[\"City\", \"Country\", \"Lat\", \"Lng\", \"Humidity\"]].copy()\n",
    "\n",
    "# Add an empty column, \"Hotel Name,\" to the DataFrame so you can store the hotel found using the Geoapify API\n",
    "hotel_df[\"Hotel Name\"] = \"\"\n",
    "\n",
    "# Display sample data\n",
    "hotel_df"
   ]
  },
  {
   "cell_type": "code",
   "execution_count": null,
   "id": "0a8ce810-45ea-4d98-b9b0-cad61465a4e0",
   "metadata": {},
   "outputs": [],
   "source": [
    "# Set parameters to search for a hotel\n",
    "radius = 10000\n",
    "params = {\"categories\": \"accommodation.hotel\",\n",
    "          \"apiKey\":geoapify_key\n",
    "         }\n",
    "\n",
    "# Print a message to follow up the hotel search\n",
    "print(\"Starting hotel search\")\n",
    "\n",
    "# Iterate through the hotel_df DataFrame\n",
    "for index, row in hotel_df.iterrows():\n",
    "    # get latitude, longitude from the DataFrame\n",
    "    latitude = row[\"Lat\"]\n",
    "    longitude = row[\"Lng\"]\n",
    "\n",
    "    # Add the current city's latitude and longitude to the params dictionary\n",
    "    params[\"filter\"] =  f\"circle:{longitude},{latitude},{radius}\"\n",
    "    params[\"bias\"] = f\"proximity:{longitude},{latitude}\"\n",
    "\n",
    "    # Set base URL\n",
    "    base_url = \"https://api.geoapify.com/v2/places\"\n",
    "\n",
    "    # Make an API request using the params dictionary\n",
    "    name_address = requests.get(base_url, params=params)\n",
    "\n",
    "    # Convert the API response to JSON format\n",
    "    name_address = name_address.json()\n",
    "\n",
    "    # Grab the first hotel from the results and store the name in the hotel_df DataFrame\n",
    "    try:\n",
    "        hotel_df.loc[index, \"Hotel Name\"] = name_address[\"features\"][0][\"properties\"][\"name\"]\n",
    "    except (KeyError, IndexError):\n",
    "            \n",
    "        # If no hotel is found, set the hotel name as \"No hotel found\".\n",
    "        hotel_df.loc[index, \"Hotel Name\"] = \"No hotel was found!\"\n",
    "\n",
    "    # Log the search results\n",
    "    print(f\"{hotel_df.loc[index, 'City']} - nearest hotel: {hotel_df.loc[index, 'Hotel Name']}\")\n",
    "\n",
    "# Display sample data\n",
    "hotel_df"
   ]
  },
  {
   "cell_type": "code",
   "execution_count": null,
   "id": "db0ae51a-5da2-415a-8132-677898ca6828",
   "metadata": {},
   "outputs": [],
   "source": [
    "%%capture --no-display\n",
    "\n",
    "# remove rows for which no hotel was found because these shouldn't display in the map\n",
    "hotel_df = hotel_df[hotel_df[\"Hotel Name\"] != \"No hotel was found!\"]\n",
    "\n",
    "# Configure the map plot\n",
    "city_hotel_map_plot = hotel_df.hvplot.points(\"Lng\", \n",
    "                                             \"Lat\", \n",
    "                                             geo = True,\n",
    "                                             color = \"City\",\n",
    "                                             alpha = 0.8,\n",
    "                                             width = 600,\n",
    "                                             height = 400,\n",
    "                                             size = \"Humidity\",\n",
    "                                             tiles = \"OSM\",\n",
    "                                             hover_cols = [\"Hotel Name\", \"Country\"],\n",
    "                                            )\n",
    "\n",
    "# save the map to an external file\n",
    "hv.save(city_hotel_map_plot, \"output_data/City_Hotel_Map.html\")\n",
    "\n",
    "# Display the map\n",
    "city_hotel_map_plot"
   ]
  },
  {
   "cell_type": "code",
   "execution_count": null,
   "id": "e52a768c-60ca-49e8-994a-f403fe958577",
   "metadata": {},
   "outputs": [],
   "source": []
  }
 ],
 "metadata": {
  "kernelspec": {
   "display_name": "Python 3 (ipykernel)",
   "language": "python",
   "name": "python3"
  },
  "language_info": {
   "codemirror_mode": {
    "name": "ipython",
    "version": 3
   },
   "file_extension": ".py",
   "mimetype": "text/x-python",
   "name": "python",
   "nbconvert_exporter": "python",
   "pygments_lexer": "ipython3",
   "version": "3.10.14"
  }
 },
 "nbformat": 4,
 "nbformat_minor": 5
}
